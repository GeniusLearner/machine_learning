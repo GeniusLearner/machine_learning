{
    "cells": [
        {
            "cell_type": "markdown",
            "metadata": {
                "button": false,
                "new_sheet": false,
                "run_control": {
                    "read_only": false
                }
            },
            "source": "## Build a base line model"
        },
        {
            "cell_type": "code",
            "execution_count": 1,
            "metadata": {
                "button": false,
                "new_sheet": false,
                "run_control": {
                    "read_only": false
                }
            },
            "outputs": [],
            "source": "# import basic libraries\nimport pandas as pd\nimport numpy as np"
        },
        {
            "cell_type": "code",
            "execution_count": 2,
            "metadata": {},
            "outputs": [],
            "source": "# download data\nconcrete_data = pd.read_csv('https://s3-api.us-geo.objectstorage.softlayer.net/cf-courses-data/CognitiveClass/DL0101EN/labs/data/concrete_data.csv')"
        },
        {
            "cell_type": "code",
            "execution_count": 3,
            "metadata": {},
            "outputs": [
                {
                    "data": {
                        "text/plain": "(1030, 9)"
                    },
                    "execution_count": 3,
                    "metadata": {},
                    "output_type": "execute_result"
                }
            ],
            "source": "# check data shape\nconcrete_data.shape"
        },
        {
            "cell_type": "code",
            "execution_count": 4,
            "metadata": {},
            "outputs": [
                {
                    "data": {
                        "text/plain": "Cement                0\nBlast Furnace Slag    0\nFly Ash               0\nWater                 0\nSuperplasticizer      0\nCoarse Aggregate      0\nFine Aggregate        0\nAge                   0\nStrength              0\ndtype: int64"
                    },
                    "execution_count": 4,
                    "metadata": {},
                    "output_type": "execute_result"
                }
            ],
            "source": "# check missing values\nconcrete_data.isnull().sum()"
        },
        {
            "cell_type": "code",
            "execution_count": 5,
            "metadata": {
                "button": false,
                "new_sheet": false,
                "run_control": {
                    "read_only": false
                }
            },
            "outputs": [],
            "source": "# split data into predictors and target\nconcrete_data_columns = concrete_data.columns\npredictors = concrete_data[concrete_data_columns[concrete_data_columns != 'Strength']] # all columns except Strength\ntarget = concrete_data['Strength'] # Strength column"
        },
        {
            "cell_type": "code",
            "execution_count": 6,
            "metadata": {
                "button": false,
                "new_sheet": false,
                "run_control": {
                    "read_only": false
                }
            },
            "outputs": [
                {
                    "data": {
                        "text/html": "<div>\n<style scoped>\n    .dataframe tbody tr th:only-of-type {\n        vertical-align: middle;\n    }\n\n    .dataframe tbody tr th {\n        vertical-align: top;\n    }\n\n    .dataframe thead th {\n        text-align: right;\n    }\n</style>\n<table border=\"1\" class=\"dataframe\">\n  <thead>\n    <tr style=\"text-align: right;\">\n      <th></th>\n      <th>Cement</th>\n      <th>Blast Furnace Slag</th>\n      <th>Fly Ash</th>\n      <th>Water</th>\n      <th>Superplasticizer</th>\n      <th>Coarse Aggregate</th>\n      <th>Fine Aggregate</th>\n      <th>Age</th>\n    </tr>\n  </thead>\n  <tbody>\n    <tr>\n      <th>0</th>\n      <td>540.0</td>\n      <td>0.0</td>\n      <td>0.0</td>\n      <td>162.0</td>\n      <td>2.5</td>\n      <td>1040.0</td>\n      <td>676.0</td>\n      <td>28</td>\n    </tr>\n    <tr>\n      <th>1</th>\n      <td>540.0</td>\n      <td>0.0</td>\n      <td>0.0</td>\n      <td>162.0</td>\n      <td>2.5</td>\n      <td>1055.0</td>\n      <td>676.0</td>\n      <td>28</td>\n    </tr>\n    <tr>\n      <th>2</th>\n      <td>332.5</td>\n      <td>142.5</td>\n      <td>0.0</td>\n      <td>228.0</td>\n      <td>0.0</td>\n      <td>932.0</td>\n      <td>594.0</td>\n      <td>270</td>\n    </tr>\n    <tr>\n      <th>3</th>\n      <td>332.5</td>\n      <td>142.5</td>\n      <td>0.0</td>\n      <td>228.0</td>\n      <td>0.0</td>\n      <td>932.0</td>\n      <td>594.0</td>\n      <td>365</td>\n    </tr>\n    <tr>\n      <th>4</th>\n      <td>198.6</td>\n      <td>132.4</td>\n      <td>0.0</td>\n      <td>192.0</td>\n      <td>0.0</td>\n      <td>978.4</td>\n      <td>825.5</td>\n      <td>360</td>\n    </tr>\n  </tbody>\n</table>\n</div>",
                        "text/plain": "   Cement  Blast Furnace Slag  Fly Ash  Water  Superplasticizer  \\\n0   540.0                 0.0      0.0  162.0               2.5   \n1   540.0                 0.0      0.0  162.0               2.5   \n2   332.5               142.5      0.0  228.0               0.0   \n3   332.5               142.5      0.0  228.0               0.0   \n4   198.6               132.4      0.0  192.0               0.0   \n\n   Coarse Aggregate  Fine Aggregate  Age  \n0            1040.0           676.0   28  \n1            1055.0           676.0   28  \n2             932.0           594.0  270  \n3             932.0           594.0  365  \n4             978.4           825.5  360  "
                    },
                    "execution_count": 6,
                    "metadata": {},
                    "output_type": "execute_result"
                }
            ],
            "source": "# sanity check predictor\npredictors.head()"
        },
        {
            "cell_type": "code",
            "execution_count": 7,
            "metadata": {
                "button": false,
                "new_sheet": false,
                "run_control": {
                    "read_only": false
                }
            },
            "outputs": [
                {
                    "data": {
                        "text/plain": "0    79.99\n1    61.89\n2    40.27\n3    41.05\n4    44.30\nName: Strength, dtype: float64"
                    },
                    "execution_count": 7,
                    "metadata": {},
                    "output_type": "execute_result"
                }
            ],
            "source": "# sanity check target\ntarget.head()"
        },
        {
            "cell_type": "code",
            "execution_count": 8,
            "metadata": {
                "button": false,
                "new_sheet": false,
                "run_control": {
                    "read_only": false
                }
            },
            "outputs": [
                {
                    "data": {
                        "text/plain": "8"
                    },
                    "execution_count": 8,
                    "metadata": {},
                    "output_type": "execute_result"
                }
            ],
            "source": "# number of predictors, which is to be used in building Keras networks\nn_cols = predictors.shape[1]\nn_cols"
        },
        {
            "cell_type": "code",
            "execution_count": 9,
            "metadata": {
                "button": false,
                "new_sheet": false,
                "run_control": {
                    "read_only": false
                }
            },
            "outputs": [
                {
                    "name": "stderr",
                    "output_type": "stream",
                    "text": "Using TensorFlow backend.\n"
                }
            ],
            "source": "# import keras-related libraries\nimport keras\nfrom keras.models import Sequential\nfrom keras.layers import Dense"
        },
        {
            "cell_type": "code",
            "execution_count": 10,
            "metadata": {
                "button": false,
                "new_sheet": false,
                "run_control": {
                    "read_only": false
                }
            },
            "outputs": [],
            "source": "# define regression model\n\n#- One hidden layer of 10 nodes, and a ReLU activation function\n\n#- Use the adam optimizer and the mean squared error as the loss function.\n\ndef regression_model():\n    # create model\n    model = Sequential()\n    model.add(Dense(10, activation='relu', input_shape=(n_cols,)))\n    model.add(Dense(1))\n    \n    # compile model\n    model.compile(optimizer='adam', loss='mean_squared_error')\n    return model"
        },
        {
            "cell_type": "code",
            "execution_count": 11,
            "metadata": {
                "button": false,
                "new_sheet": false,
                "run_control": {
                    "read_only": false
                }
            },
            "outputs": [
                {
                    "name": "stdout",
                    "output_type": "stream",
                    "text": "WARNING:tensorflow:From /opt/conda/envs/Python36/lib/python3.6/site-packages/tensorflow/python/framework/op_def_library.py:263: colocate_with (from tensorflow.python.framework.ops) is deprecated and will be removed in a future version.\nInstructions for updating:\nColocations handled automatically by placer.\n"
                }
            ],
            "source": "# build the model\nmodel = regression_model()"
        },
        {
            "cell_type": "code",
            "execution_count": 12,
            "metadata": {},
            "outputs": [
                {
                    "name": "stdout",
                    "output_type": "stream",
                    "text": "current time: 0\nWARNING:tensorflow:From /opt/conda/envs/Python36/lib/python3.6/site-packages/tensorflow/python/ops/math_ops.py:3066: to_int32 (from tensorflow.python.ops.math_ops) is deprecated and will be removed in a future version.\nInstructions for updating:\nUse tf.cast instead.\n309/309 [==============================] - 0s 209us/step\ncurrent time: 1\n309/309 [==============================] - 0s 68us/step\ncurrent time: 2\n309/309 [==============================] - 0s 58us/step\ncurrent time: 3\n309/309 [==============================] - 0s 84us/step\ncurrent time: 4\n309/309 [==============================] - 0s 52us/step\ncurrent time: 5\n309/309 [==============================] - 0s 40us/step\ncurrent time: 6\n309/309 [==============================] - 0s 65us/step\ncurrent time: 7\n309/309 [==============================] - 0s 64us/step\ncurrent time: 8\n309/309 [==============================] - 0s 79us/step\ncurrent time: 9\n309/309 [==============================] - 0s 101us/step\ncurrent time: 10\n309/309 [==============================] - 0s 56us/step\ncurrent time: 11\n309/309 [==============================] - 0s 92us/step\ncurrent time: 12\n309/309 [==============================] - 0s 79us/step\ncurrent time: 13\n309/309 [==============================] - 0s 131us/step\ncurrent time: 14\n309/309 [==============================] - 0s 104us/step\ncurrent time: 15\n309/309 [==============================] - 0s 71us/step\ncurrent time: 16\n309/309 [==============================] - 0s 66us/step\ncurrent time: 17\n309/309 [==============================] - 0s 69us/step\ncurrent time: 18\n309/309 [==============================] - 0s 62us/step\ncurrent time: 19\n309/309 [==============================] - 0s 62us/step\ncurrent time: 20\n309/309 [==============================] - 0s 46us/step\ncurrent time: 21\n309/309 [==============================] - 0s 71us/step\ncurrent time: 22\n309/309 [==============================] - 0s 64us/step\ncurrent time: 23\n309/309 [==============================] - 0s 56us/step\ncurrent time: 24\n309/309 [==============================] - 0s 57us/step\ncurrent time: 25\n309/309 [==============================] - 0s 79us/step\ncurrent time: 26\n309/309 [==============================] - 0s 45us/step\ncurrent time: 27\n309/309 [==============================] - 0s 43us/step\ncurrent time: 28\n309/309 [==============================] - 0s 46us/step\ncurrent time: 29\n309/309 [==============================] - 0s 68us/step\ncurrent time: 30\n309/309 [==============================] - 0s 59us/step\ncurrent time: 31\n309/309 [==============================] - 0s 70us/step\ncurrent time: 32\n309/309 [==============================] - 0s 56us/step\ncurrent time: 33\n309/309 [==============================] - 0s 65us/step\ncurrent time: 34\n309/309 [==============================] - 0s 68us/step\ncurrent time: 35\n309/309 [==============================] - 0s 124us/step\ncurrent time: 36\n309/309 [==============================] - 0s 58us/step\ncurrent time: 37\n309/309 [==============================] - 0s 60us/step\ncurrent time: 38\n309/309 [==============================] - 0s 67us/step\ncurrent time: 39\n309/309 [==============================] - 0s 57us/step\ncurrent time: 40\n309/309 [==============================] - 0s 90us/step\ncurrent time: 41\n309/309 [==============================] - 0s 117us/step\ncurrent time: 42\n309/309 [==============================] - 0s 65us/step\ncurrent time: 43\n309/309 [==============================] - 0s 62us/step\ncurrent time: 44\n309/309 [==============================] - 0s 61us/step\ncurrent time: 45\n309/309 [==============================] - 0s 84us/step\ncurrent time: 46\n309/309 [==============================] - 0s 90us/step\ncurrent time: 47\n309/309 [==============================] - 0s 139us/step\ncurrent time: 48\n309/309 [==============================] - 0s 103us/step\ncurrent time: 49\n309/309 [==============================] - 0s 66us/step\nOk.\n"
                }
            ],
            "source": "# 1. Randomly split the data into a training and test sets by holding 30% of the data for testing. \n# 2. Train the model on the training data using 50 epochs.\n# 3. Evaluate the model on the test data and compute the mean squared error between the predicted \n# concrete strength and the actual concrete strength.\n\nfrom sklearn.model_selection import train_test_split\n\nmse_table = np.zeros((50,1)) # have a record of the mse's\n\nfor i in list(range(0,50)):\n    \n    print('current time: ' + str(i))\n    \n    X_train, X_test, y_train, y_test = \\\n    train_test_split(predictors, target, test_size=0.3, random_state=0)\n    \n    # fit the model\n    model.fit(X_train, y_train, validation_split=0.0, epochs=50, verbose=0)\n    \n    # evaluate the model and return the mse on the test set\n    mse_table[i] = model.evaluate(X_test, y_test)\n\nprint('Ok.')"
        },
        {
            "cell_type": "code",
            "execution_count": 13,
            "metadata": {},
            "outputs": [
                {
                    "name": "stdout",
                    "output_type": "stream",
                    "text": "[[165.37666158]\n [114.81724082]\n [117.90756529]\n [102.07198249]\n [100.60997471]\n [ 99.62880644]\n [101.46198679]\n [ 96.12901288]\n [ 78.25637577]\n [ 67.76610586]\n [ 69.08954596]\n [ 56.30058929]\n [ 53.30835978]\n [ 55.77279429]\n [ 53.42719997]\n [ 60.21371512]\n [ 48.26930003]\n [ 48.51728895]\n [ 49.74142191]\n [ 47.74217238]\n [ 51.8742266 ]\n [ 48.96991182]\n [ 51.40986597]\n [ 54.47551117]\n [ 47.23927768]\n [ 48.04247484]\n [ 49.81636575]\n [ 61.5655064 ]\n [ 48.39453858]\n [ 48.48583547]\n [ 48.9153082 ]\n [ 49.6651338 ]\n [ 59.03994746]\n [ 49.81666899]\n [ 58.38567776]\n [ 50.94622739]\n [ 48.36599071]\n [ 51.03697703]\n [ 49.10194129]\n [ 48.33070356]\n [ 48.4837333 ]\n [ 50.00035003]\n [ 50.68801321]\n [ 48.8100413 ]\n [ 49.34223015]\n [ 48.18944001]\n [ 49.30350183]\n [ 49.20271169]\n [ 48.06080853]\n [ 48.94952856]]\nmean of the mse: 62.02633098762785\nstd of the mse: 24.26767636354504\n"
                }
            ],
            "source": "# print the mse's\nprint(mse_table)\n\n# print the mean of the mse's\nprint('mean of the mse: ' + str(np.mean(mse_table)))\n\n# print the standard deviation of the mse's\nprint('std of the mse: ' + str(np.std(mse_table)))"
        },
        {
            "cell_type": "markdown",
            "metadata": {},
            "source": "<a id=\"item32\"></a>"
        },
        {
            "cell_type": "markdown",
            "metadata": {},
            "source": "## Normalize the data"
        },
        {
            "cell_type": "code",
            "execution_count": 14,
            "metadata": {},
            "outputs": [
                {
                    "data": {
                        "text/html": "<div>\n<style scoped>\n    .dataframe tbody tr th:only-of-type {\n        vertical-align: middle;\n    }\n\n    .dataframe tbody tr th {\n        vertical-align: top;\n    }\n\n    .dataframe thead th {\n        text-align: right;\n    }\n</style>\n<table border=\"1\" class=\"dataframe\">\n  <thead>\n    <tr style=\"text-align: right;\">\n      <th></th>\n      <th>Cement</th>\n      <th>Blast Furnace Slag</th>\n      <th>Fly Ash</th>\n      <th>Water</th>\n      <th>Superplasticizer</th>\n      <th>Coarse Aggregate</th>\n      <th>Fine Aggregate</th>\n      <th>Age</th>\n    </tr>\n  </thead>\n  <tbody>\n    <tr>\n      <th>0</th>\n      <td>2.476712</td>\n      <td>-0.856472</td>\n      <td>-0.846733</td>\n      <td>-0.916319</td>\n      <td>-0.620147</td>\n      <td>0.862735</td>\n      <td>-1.217079</td>\n      <td>-0.279597</td>\n    </tr>\n    <tr>\n      <th>1</th>\n      <td>2.476712</td>\n      <td>-0.856472</td>\n      <td>-0.846733</td>\n      <td>-0.916319</td>\n      <td>-0.620147</td>\n      <td>1.055651</td>\n      <td>-1.217079</td>\n      <td>-0.279597</td>\n    </tr>\n    <tr>\n      <th>2</th>\n      <td>0.491187</td>\n      <td>0.795140</td>\n      <td>-0.846733</td>\n      <td>2.174405</td>\n      <td>-1.038638</td>\n      <td>-0.526262</td>\n      <td>-2.239829</td>\n      <td>3.551340</td>\n    </tr>\n    <tr>\n      <th>3</th>\n      <td>0.491187</td>\n      <td>0.795140</td>\n      <td>-0.846733</td>\n      <td>2.174405</td>\n      <td>-1.038638</td>\n      <td>-0.526262</td>\n      <td>-2.239829</td>\n      <td>5.055221</td>\n    </tr>\n    <tr>\n      <th>4</th>\n      <td>-0.790075</td>\n      <td>0.678079</td>\n      <td>-0.846733</td>\n      <td>0.488555</td>\n      <td>-1.038638</td>\n      <td>0.070492</td>\n      <td>0.647569</td>\n      <td>4.976069</td>\n    </tr>\n  </tbody>\n</table>\n</div>",
                        "text/plain": "     Cement  Blast Furnace Slag   Fly Ash     Water  Superplasticizer  \\\n0  2.476712           -0.856472 -0.846733 -0.916319         -0.620147   \n1  2.476712           -0.856472 -0.846733 -0.916319         -0.620147   \n2  0.491187            0.795140 -0.846733  2.174405         -1.038638   \n3  0.491187            0.795140 -0.846733  2.174405         -1.038638   \n4 -0.790075            0.678079 -0.846733  0.488555         -1.038638   \n\n   Coarse Aggregate  Fine Aggregate       Age  \n0          0.862735       -1.217079 -0.279597  \n1          1.055651       -1.217079 -0.279597  \n2         -0.526262       -2.239829  3.551340  \n3         -0.526262       -2.239829  5.055221  \n4          0.070492        0.647569  4.976069  "
                    },
                    "execution_count": 14,
                    "metadata": {},
                    "output_type": "execute_result"
                }
            ],
            "source": "# data normalization\npredictors_norm = (predictors - predictors.mean()) / predictors.std()\npredictors_norm.head()"
        },
        {
            "cell_type": "code",
            "execution_count": 15,
            "metadata": {},
            "outputs": [
                {
                    "name": "stdout",
                    "output_type": "stream",
                    "text": "current time: 0\n309/309 [==============================] - 0s 109us/step\ncurrent time: 1\n309/309 [==============================] - 0s 60us/step\ncurrent time: 2\n309/309 [==============================] - 0s 79us/step\ncurrent time: 3\n309/309 [==============================] - 0s 74us/step\ncurrent time: 4\n309/309 [==============================] - 0s 97us/step\ncurrent time: 5\n309/309 [==============================] - 0s 60us/step\ncurrent time: 6\n309/309 [==============================] - 0s 61us/step\ncurrent time: 7\n309/309 [==============================] - 0s 73us/step\ncurrent time: 8\n309/309 [==============================] - 0s 70us/step\ncurrent time: 9\n309/309 [==============================] - 0s 68us/step\ncurrent time: 10\n309/309 [==============================] - 0s 63us/step\ncurrent time: 11\n309/309 [==============================] - 0s 55us/step\ncurrent time: 12\n309/309 [==============================] - 0s 74us/step\ncurrent time: 13\n309/309 [==============================] - 0s 76us/step\ncurrent time: 14\n309/309 [==============================] - 0s 50us/step\ncurrent time: 15\n309/309 [==============================] - 0s 107us/step\ncurrent time: 16\n309/309 [==============================] - 0s 84us/step\ncurrent time: 17\n309/309 [==============================] - 0s 62us/step\ncurrent time: 18\n309/309 [==============================] - 0s 83us/step\ncurrent time: 19\n309/309 [==============================] - 0s 55us/step\ncurrent time: 20\n309/309 [==============================] - 0s 62us/step\ncurrent time: 21\n309/309 [==============================] - 0s 97us/step\ncurrent time: 22\n309/309 [==============================] - 0s 68us/step\ncurrent time: 23\n309/309 [==============================] - 0s 89us/step\ncurrent time: 24\n309/309 [==============================] - 0s 81us/step\ncurrent time: 25\n309/309 [==============================] - 0s 64us/step\ncurrent time: 26\n309/309 [==============================] - 0s 73us/step\ncurrent time: 27\n309/309 [==============================] - 0s 67us/step\ncurrent time: 28\n309/309 [==============================] - 0s 68us/step\ncurrent time: 29\n309/309 [==============================] - 0s 59us/step\ncurrent time: 30\n309/309 [==============================] - 0s 66us/step\ncurrent time: 31\n309/309 [==============================] - 0s 47us/step\ncurrent time: 32\n309/309 [==============================] - 0s 66us/step\ncurrent time: 33\n309/309 [==============================] - 0s 64us/step\ncurrent time: 34\n309/309 [==============================] - 0s 84us/step\ncurrent time: 35\n309/309 [==============================] - 0s 49us/step\ncurrent time: 36\n309/309 [==============================] - 0s 38us/step\ncurrent time: 37\n309/309 [==============================] - 0s 64us/step\ncurrent time: 38\n309/309 [==============================] - 0s 54us/step\ncurrent time: 39\n309/309 [==============================] - 0s 121us/step\ncurrent time: 40\n309/309 [==============================] - 0s 68us/step\ncurrent time: 41\n309/309 [==============================] - 0s 64us/step\ncurrent time: 42\n309/309 [==============================] - 0s 63us/step\ncurrent time: 43\n309/309 [==============================] - 0s 131us/step\ncurrent time: 44\n309/309 [==============================] - 0s 60us/step\ncurrent time: 45\n309/309 [==============================] - 0s 61us/step\ncurrent time: 46\n309/309 [==============================] - 0s 46us/step\ncurrent time: 47\n309/309 [==============================] - 0s 62us/step\ncurrent time: 48\n309/309 [==============================] - 0s 40us/step\ncurrent time: 49\n309/309 [==============================] - 0s 120us/step\ndone.\n"
                }
            ],
            "source": "# 1. Randomly split the data into a training and test sets by holding 30% of the data for testing. \n# 2. Train the model on the training data using 50 epochs.\n# 3. Evaluate the model on the test data and compute the mean squared error between the predicted \n# concrete strength and the actual concrete strength.\n\nfrom sklearn.model_selection import train_test_split\n\nmse_table = np.zeros((50,1)) # have a record of the mse's\n\nfor i in list(range(0,50)):\n    \n    print('current time: ' + str(i))\n    \n    X_train, X_test, y_train, y_test = \\\n    train_test_split(predictors_norm, target, test_size=0.3, random_state=0)\n    \n    # fit the model\n    model.fit(X_train, y_train, validation_split=0.0, epochs=50, verbose=0)\n    \n    # evaluate the model and return the mse on the test set\n    mse_table[i] = model.evaluate(X_test, y_test)\n\nprint('done.')"
        },
        {
            "cell_type": "code",
            "execution_count": 16,
            "metadata": {},
            "outputs": [
                {
                    "name": "stdout",
                    "output_type": "stream",
                    "text": "[[171.5936067 ]\n [115.00047502]\n [101.53191261]\n [ 95.02772468]\n [ 89.78418448]\n [ 83.56885447]\n [ 75.379943  ]\n [ 66.14732974]\n [ 58.79403487]\n [ 53.15449044]\n [ 50.1812891 ]\n [ 48.64959937]\n [ 48.20128683]\n [ 47.5421699 ]\n [ 46.69997304]\n [ 46.04901743]\n [ 46.01074522]\n [ 45.66612305]\n [ 45.27742024]\n [ 44.98700934]\n [ 44.90612711]\n [ 45.06594717]\n [ 45.04479315]\n [ 45.01461238]\n [ 44.98410559]\n [ 44.9971767 ]\n [ 44.99784649]\n [ 45.02077657]\n [ 45.04398748]\n [ 44.78967184]\n [ 44.74204595]\n [ 44.54764428]\n [ 44.28513697]\n [ 44.3392755 ]\n [ 44.40865639]\n [ 44.13677704]\n [ 44.21926465]\n [ 43.84775657]\n [ 43.80542765]\n [ 43.78700693]\n [ 43.64103469]\n [ 43.51554557]\n [ 43.52579044]\n [ 43.36692235]\n [ 43.09186858]\n [ 42.96908293]\n [ 42.94779899]\n [ 42.66636397]\n [ 42.70412712]\n [ 42.21041501]]\nmean of the mse: 54.03740351161524\nstd of the mse: 23.566923082322294\n"
                }
            ],
            "source": "# print the mse's\nprint(mse_table)\n\n# print the mean of the mse's\nprint('mean of the mse: ' + str(np.mean(mse_table)))\n\n# print the standard deviation of the mse's\nprint('std of the mse: ' + str(np.std(mse_table)))"
        },
        {
            "cell_type": "markdown",
            "metadata": {},
            "source": "<a id=\"item33\"></a>"
        },
        {
            "cell_type": "markdown",
            "metadata": {},
            "source": "### Discussion: Both MSE mean and std are smaller than those using un-normalized data.\n"
        },
        {
            "cell_type": "markdown",
            "metadata": {},
            "source": "## Increase the number of epochs"
        },
        {
            "cell_type": "code",
            "execution_count": 17,
            "metadata": {},
            "outputs": [
                {
                    "name": "stdout",
                    "output_type": "stream",
                    "text": "current time: 0\n309/309 [==============================] - 0s 88us/step\ncurrent time: 1\n309/309 [==============================] - 0s 53us/step\ncurrent time: 2\n309/309 [==============================] - 0s 64us/step\ncurrent time: 3\n309/309 [==============================] - 0s 86us/step\ncurrent time: 4\n309/309 [==============================] - 0s 65us/step\ncurrent time: 5\n309/309 [==============================] - 0s 89us/step\ncurrent time: 6\n309/309 [==============================] - 0s 85us/step\ncurrent time: 7\n309/309 [==============================] - 0s 91us/step\ncurrent time: 8\n309/309 [==============================] - 0s 64us/step\ncurrent time: 9\n309/309 [==============================] - 0s 66us/step\ncurrent time: 10\n309/309 [==============================] - 0s 98us/step\ncurrent time: 11\n309/309 [==============================] - 0s 116us/step\ncurrent time: 12\n309/309 [==============================] - 0s 71us/step\ncurrent time: 13\n309/309 [==============================] - 0s 89us/step\ncurrent time: 14\n309/309 [==============================] - 0s 119us/step\ncurrent time: 15\n309/309 [==============================] - 0s 180us/step\ncurrent time: 16\n309/309 [==============================] - 0s 68us/step\ncurrent time: 17\n309/309 [==============================] - 0s 61us/step\ncurrent time: 18\n309/309 [==============================] - 0s 68us/step\ncurrent time: 19\n309/309 [==============================] - 0s 70us/step\ncurrent time: 20\n309/309 [==============================] - 0s 61us/step\ncurrent time: 21\n309/309 [==============================] - 0s 69us/step\ncurrent time: 22\n309/309 [==============================] - 0s 68us/step\ncurrent time: 23\n309/309 [==============================] - 0s 69us/step\ncurrent time: 24\n309/309 [==============================] - 0s 112us/step\ncurrent time: 25\n309/309 [==============================] - 0s 50us/step\ncurrent time: 26\n309/309 [==============================] - 0s 64us/step\ncurrent time: 27\n309/309 [==============================] - 0s 117us/step\ncurrent time: 28\n309/309 [==============================] - 0s 93us/step\ncurrent time: 29\n309/309 [==============================] - 0s 47us/step\ncurrent time: 30\n309/309 [==============================] - 0s 65us/step\ncurrent time: 31\n309/309 [==============================] - 0s 67us/step\ncurrent time: 32\n309/309 [==============================] - 0s 81us/step\ncurrent time: 33\n309/309 [==============================] - 0s 64us/step\ncurrent time: 34\n309/309 [==============================] - 0s 35us/step\ncurrent time: 35\n309/309 [==============================] - 0s 90us/step\ncurrent time: 36\n309/309 [==============================] - 0s 76us/step\ncurrent time: 37\n309/309 [==============================] - 0s 63us/step\ncurrent time: 38\n309/309 [==============================] - 0s 56us/step\ncurrent time: 39\n309/309 [==============================] - 0s 69us/step\ncurrent time: 40\n309/309 [==============================] - 0s 92us/step\ncurrent time: 41\n309/309 [==============================] - 0s 36us/step\ncurrent time: 42\n309/309 [==============================] - 0s 67us/step\ncurrent time: 43\n309/309 [==============================] - 0s 72us/step\ncurrent time: 44\n309/309 [==============================] - 0s 89us/step\ncurrent time: 45\n309/309 [==============================] - 0s 61us/step\ncurrent time: 46\n309/309 [==============================] - 2s 5ms/step\ncurrent time: 47\n309/309 [==============================] - 0s 115us/step\ncurrent time: 48\n309/309 [==============================] - 0s 78us/step\ncurrent time: 49\n309/309 [==============================] - 0s 69us/step\ndone.\n"
                }
            ],
            "source": "# 1. Randomly split the data into a training and test sets by holding 30% of the data for testing. \n# 2. Train the model on the training data using 100 epochs.\n# 3. Evaluate the model on the test data and compute the mean squared error between the predicted \n# concrete strength and the actual concrete strength.\n\nfrom sklearn.model_selection import train_test_split\n\nmse_table = np.zeros((50,1)) # have a record of the mse's\n\nfor i in list(range(0,50)):\n    \n    print('current time: ' + str(i))\n    \n    X_train, X_test, y_train, y_test = \\\n    train_test_split(predictors_norm, target, test_size=0.3, random_state=0)\n    \n    # fit the model\n    model.fit(X_train, y_train, validation_split=0.0, epochs=100, verbose=0)\n    \n    # evaluate the model and return the mse on the test set\n    mse_table[i] = model.evaluate(X_test, y_test)\n    \nprint('done.')"
        },
        {
            "cell_type": "code",
            "execution_count": 18,
            "metadata": {},
            "outputs": [
                {
                    "name": "stdout",
                    "output_type": "stream",
                    "text": "[[41.99622956]\n [41.4093716 ]\n [40.77809086]\n [40.40507105]\n [39.74143555]\n [39.64711057]\n [39.59450969]\n [39.3762407 ]\n [39.15733623]\n [38.96237748]\n [39.02543862]\n [38.9243388 ]\n [38.88288055]\n [38.91123041]\n [38.72647253]\n [38.57662058]\n [38.61671802]\n [38.53426652]\n [38.51087236]\n [38.47319737]\n [38.38719527]\n [38.37180453]\n [38.3013449 ]\n [38.49870153]\n [38.40437995]\n [38.2466631 ]\n [38.15253351]\n [38.1105377 ]\n [38.14806684]\n [38.17338951]\n [38.30505876]\n [38.20128629]\n [38.00062175]\n [38.28047895]\n [38.15712336]\n [38.11368781]\n [38.24801738]\n [38.05238223]\n [37.9913598 ]\n [38.33053173]\n [38.24358926]\n [38.04513349]\n [38.08145508]\n [38.19407633]\n [38.23363202]\n [38.22845232]\n [38.18942514]\n [38.1973117 ]\n [38.06262138]\n [38.18546809]]\nmean of the mse: 38.687722774616724\nstd of the mse: 0.8615170024559473\n"
                }
            ],
            "source": "# print the mse's\nprint(mse_table)\n\n# print the mean of the mse's\nprint('mean of the mse: ' + str(np.mean(mse_table)))\n\n# print the standard deviation of the mse's\nprint('std of the mse: ' + str(np.std(mse_table)))"
        },
        {
            "cell_type": "markdown",
            "metadata": {},
            "source": "<a id=\"item34\"></a>"
        },
        {
            "cell_type": "markdown",
            "metadata": {},
            "source": "### Discussion: MSE mean and std are significantly smaller than those using un-normalized data and those using normailized data."
        },
        {
            "cell_type": "markdown",
            "metadata": {},
            "source": "## Increase the number of hidden layers"
        },
        {
            "cell_type": "code",
            "execution_count": null,
            "metadata": {},
            "outputs": [],
            "source": "# define regression model\n\n#- Three hidden layers, each of 10 nodes and a ReLU activation function\n\n#- Use the adam optimizer and the mean squared error as the loss function.\n\ndef regression_model():\n    # create model\n    model = Sequential()\n    model.add(Dense(10, activation='relu', input_shape=(n_cols,)))\n    model.add(Dense(10, activation='relu'))\n    model.add(Dense(10, activation='relu'))\n    model.add(Dense(1))\n    \n    # compile model\n    model.compile(optimizer='adam', loss='mean_squared_error')\n    return model"
        },
        {
            "cell_type": "code",
            "execution_count": null,
            "metadata": {},
            "outputs": [
                {
                    "name": "stdout",
                    "output_type": "stream",
                    "text": "current time: 0\n309/309 [==============================] - 0s 71us/step\ncurrent time: 1\n309/309 [==============================] - 0s 78us/step\ncurrent time: 2\n309/309 [==============================] - 0s 66us/step\ncurrent time: 3\n309/309 [==============================] - 0s 63us/step\ncurrent time: 4\n309/309 [==============================] - 0s 48us/step\ncurrent time: 5\n309/309 [==============================] - 0s 69us/step\ncurrent time: 6\n309/309 [==============================] - 0s 104us/step\ncurrent time: 7\n309/309 [==============================] - 0s 92us/step\ncurrent time: 8\n309/309 [==============================] - 0s 54us/step\ncurrent time: 9\n309/309 [==============================] - 0s 102us/step\ncurrent time: 10\n309/309 [==============================] - 0s 85us/step\ncurrent time: 11\n309/309 [==============================] - 0s 97us/step\ncurrent time: 12\n309/309 [==============================] - 0s 77us/step\ncurrent time: 13\n309/309 [==============================] - 0s 114us/step\ncurrent time: 14\n309/309 [==============================] - 0s 50us/step\ncurrent time: 15\n309/309 [==============================] - 0s 71us/step\ncurrent time: 16\n309/309 [==============================] - 0s 63us/step\ncurrent time: 17\n309/309 [==============================] - 0s 47us/step\ncurrent time: 18\n309/309 [==============================] - 0s 116us/step\ncurrent time: 19\n309/309 [==============================] - 0s 72us/step\ncurrent time: 20\n309/309 [==============================] - 0s 129us/step\ncurrent time: 21\n309/309 [==============================] - 0s 74us/step\ncurrent time: 22\n309/309 [==============================] - 0s 74us/step\ncurrent time: 23\n309/309 [==============================] - 0s 77us/step\ncurrent time: 24\n309/309 [==============================] - 0s 68us/step\ncurrent time: 25\n309/309 [==============================] - 0s 68us/step\ncurrent time: 26\n"
                }
            ],
            "source": "# 1. Randomly split the data into a training and test sets by holding 30% of the data for testing. \n# 2. Train the model on the training data using 50 epochs.\n# 3. Evaluate the model on the test data and compute the mean squared error between the predicted \n# concrete strength and the actual concrete strength.\n\nfrom sklearn.model_selection import train_test_split\n\nmse_table = np.zeros((50,1)) # have a record of the mse's\n\nfor i in list(range(0,50)):\n    \n    print('current time: ' + str(i))\n    \n    X_train, X_test, y_train, y_test = \\\n    train_test_split(predictors_norm, target, test_size=0.3, random_state=0)\n    \n    # fit the model\n    model.fit(X_train, y_train, validation_split=0.0, epochs=50, verbose=0)\n    \n    # evaluate the model and return the mse on the test set\n    mse_table[i] = model.evaluate(X_test, y_test)\n    \nprint('done.')"
        },
        {
            "cell_type": "code",
            "execution_count": null,
            "metadata": {},
            "outputs": [],
            "source": "# print the mse's\nprint(mse_table)\n\n# print the mean of the mse's\nprint('mean of the mse: ' + str(np.mean(mse_table)))\n\n# print the standard deviation of the mse's\nprint('std of the mse: ' + str(np.std(mse_table)))"
        },
        {
            "cell_type": "markdown",
            "metadata": {},
            "source": "### Discussion: MSE mean and std are significantly smaller than those using un-normalized data and those using normailized data. Further, they are slightly smaller than those using normalized data and trained with 100 epochs instead of 50 epochs."
        }
    ],
    "metadata": {
        "kernelspec": {
            "display_name": "Python 3.6",
            "language": "python",
            "name": "python3"
        },
        "language_info": {
            "codemirror_mode": {
                "name": "ipython",
                "version": 3
            },
            "file_extension": ".py",
            "mimetype": "text/x-python",
            "name": "python",
            "nbconvert_exporter": "python",
            "pygments_lexer": "ipython3",
            "version": "3.6.9"
        }
    },
    "nbformat": 4,
    "nbformat_minor": 4
}